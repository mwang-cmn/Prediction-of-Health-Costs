{
  "cells": [
    {
      "cell_type": "markdown",
      "metadata": {
        "id": "view-in-github",
        "colab_type": "text"
      },
      "source": [
        "<a href=\"https://colab.research.google.com/github/mwang-cmn/Prediction-of-Health-Costs/blob/main/Prediction%20of%20Health%20Expenses.ipynb\" target=\"_parent\"><img src=\"https://colab.research.google.com/assets/colab-badge.svg\" alt=\"Open In Colab\"/></a>"
      ]
    },
    {
      "cell_type": "code",
      "execution_count": null,
      "metadata": {
        "id": "1rRo8oNqZ-Rj"
      },
      "outputs": [],
      "source": [
        "\n",
        "import matplotlib.pyplot as plt\n",
        "import numpy as np\n",
        "import pandas as pd\n",
        "import seaborn as sns\n",
        "sns.set_theme(style=\"whitegrid\", palette=\"pastel\")\n",
        "import warnings\n",
        "warnings.filterwarnings(\"ignore\")\n"
      ]
    },
    {
      "cell_type": "code",
      "execution_count": null,
      "metadata": {
        "id": "CiX2FI4gZtTt"
      },
      "outputs": [],
      "source": [
        "# Import data\n",
        "!wget https://cdn.freecodecamp.org/project-data/health-costs/insurance.csv\n",
        "dataset = pd.read_csv('insurance.csv')\n",
        "dataset.tail()"
      ]
    },
    {
      "cell_type": "code",
      "execution_count": null,
      "metadata": {
        "id": "LcopvQh3X-kX"
      },
      "outputs": [],
      "source": [
        "dataset.info()"
      ]
    },
    {
      "cell_type": "code",
      "source": [
        "data = dataset.copy()\n",
        "data.describe()"
      ],
      "metadata": {
        "id": "Lxigk1t3-96Q"
      },
      "execution_count": null,
      "outputs": []
    },
    {
      "cell_type": "code",
      "source": [
        "data.isnull().sum()"
      ],
      "metadata": {
        "id": "2ZCuv0zP-93Y"
      },
      "execution_count": null,
      "outputs": []
    },
    {
      "cell_type": "code",
      "source": [
        "data.duplicated().sum()"
      ],
      "metadata": {
        "id": "Ivh8juDO-90g"
      },
      "execution_count": null,
      "outputs": []
    },
    {
      "cell_type": "code",
      "source": [
        "data.drop_duplicates(inplace=True)\n",
        "data.duplicated().sum()\n"
      ],
      "metadata": {
        "id": "SXI_u3vL-9xN"
      },
      "execution_count": null,
      "outputs": []
    },
    {
      "cell_type": "markdown",
      "source": [
        "### **Exploratory Data Analysis**"
      ],
      "metadata": {
        "id": "I8B04N8DPw4O"
      }
    },
    {
      "cell_type": "code",
      "source": [
        "\n",
        "sns.pairplot(data)\n",
        "plt.grid(False)\n",
        "plt.show()\n"
      ],
      "metadata": {
        "id": "HI_gHRp6-9ug"
      },
      "execution_count": null,
      "outputs": []
    },
    {
      "cell_type": "code",
      "source": [
        "# prompt: histograms of age, bmi, expenses, use fig, ax, subplots 1,3, add kde\n",
        "\n",
        "import matplotlib.pyplot as plt\n",
        "import seaborn as sns\n",
        "\n",
        "fig, axes = plt.subplots(1, 3, figsize=(15, 5))\n",
        "\n",
        "sns.histplot(data['age'], kde=True, ax=axes[0])\n",
        "axes[0].set_title('Age Distribution')\n",
        "\n",
        "sns.histplot(data['bmi'], kde=True, ax=axes[1])\n",
        "axes[1].set_title('BMI Distribution')\n",
        "\n",
        "sns.histplot(data['expenses'], kde=True, ax=axes[2])\n",
        "axes[2].set_title('Expenses Distribution')\n",
        "\n",
        "plt.tight_layout()\n",
        "plt.show()\n"
      ],
      "metadata": {
        "id": "zjXpXoBk-9rl"
      },
      "execution_count": null,
      "outputs": []
    },
    {
      "cell_type": "code",
      "source": [
        "# boxplots of age, bmi, expenses, use fig, ax, subplots 1,3,\n",
        "\n",
        "fig, axes = plt.subplots(1, 3, figsize=(15, 5))\n",
        "\n",
        "sns.boxplot(data['age'], ax=axes[0])\n",
        "axes[0].set_title('Age Distribution')\n",
        "\n",
        "sns.boxplot(data['bmi'], ax=axes[1])\n",
        "axes[1].set_title('BMI Distribution')\n",
        "\n",
        "sns.boxplot(data['expenses'], ax=axes[2])\n",
        "axes[2].set_title('Expenses Distribution')\n",
        "\n",
        "plt.tight_layout()\n",
        "plt.show()\n"
      ],
      "metadata": {
        "id": "ejo84v8w-9k6"
      },
      "execution_count": null,
      "outputs": []
    },
    {
      "cell_type": "code",
      "source": [
        "# countplots of children, smoker, sex and region\n",
        "\n",
        "fig, axes = plt.subplots(2, 2, figsize=(15, 10))\n",
        "\n",
        "sns.countplot(x='children', data=data, ax=axes[0, 0])\n",
        "axes[0, 0].set_title('Children Distribution')\n",
        "\n",
        "sns.countplot(x='smoker', data=data, ax=axes[0, 1])\n",
        "axes[0, 1].set_title('Smoker Distribution')\n",
        "\n",
        "sns.countplot(x='sex', data=data, ax=axes[1, 0])\n",
        "axes[1, 0].set_title('Sex Distribution')\n",
        "\n",
        "sns.countplot(x='region', data=data, ax=axes[1, 1])\n",
        "axes[1, 1].set_title('Region Distribution')\n",
        "\n",
        "plt.tight_layout()\n",
        "plt.show()\n"
      ],
      "metadata": {
        "id": "bLYuQUGMBWZN"
      },
      "execution_count": null,
      "outputs": []
    },
    {
      "cell_type": "code",
      "source": [
        "# barplot of expenses for  children, smoker, sex and region\n",
        "\n",
        "fig, axes = plt.subplots(2, 2, figsize=(15, 10))\n",
        "\n",
        "sns.barplot(x='children', y='expenses', data=data, ax=axes[0, 0])\n",
        "axes[0, 0].set_title('Expenses vs Children')\n",
        "\n",
        "sns.barplot(x='smoker', y='expenses', data=data, ax=axes[0, 1])\n",
        "axes[0, 1].set_title('Expenses vs Smoker')\n",
        "\n",
        "sns.barplot(x='sex', y='expenses', data=data, ax=axes[1, 0])\n",
        "axes[1, 0].set_title('Expenses vs Sex')\n",
        "\n",
        "sns.barplot(x='region', y='expenses', data=data, ax=axes[1, 1])\n",
        "axes[1, 1].set_title('Expenses vs Region')\n",
        "\n",
        "plt.tight_layout()\n",
        "plt.show()\n"
      ],
      "metadata": {
        "id": "-cPL-Y6bBWWL"
      },
      "execution_count": null,
      "outputs": []
    },
    {
      "cell_type": "code",
      "source": [
        "health = data.copy()\n"
      ],
      "metadata": {
        "id": "kBbpRL6MC5Xy"
      },
      "execution_count": null,
      "outputs": []
    },
    {
      "cell_type": "code",
      "source": [
        "# label encode health categorical columns\n",
        "\n",
        "from sklearn.preprocessing import LabelEncoder\n",
        "\n",
        "label = LabelEncoder()\n",
        "health['sex'] = label.fit_transform(health['sex'])\n",
        "health['smoker'] = label.fit_transform(health['smoker'])\n",
        "health['region'] = label.fit_transform(health['region'])\n",
        "health.head()\n"
      ],
      "metadata": {
        "id": "4hLH_v6zDOCo"
      },
      "execution_count": null,
      "outputs": []
    },
    {
      "cell_type": "code",
      "source": [
        "# correlation heatmap\n",
        "\n",
        "import matplotlib.pyplot as plt\n",
        "import seaborn as sns\n",
        "\n",
        "plt.figure(figsize=(12, 10))\n",
        "sns.heatmap(health.corr(), annot=True, cmap='coolwarm')\n",
        "plt.title('Correlation Heatmap of Health Insurance Dataset')\n",
        "plt.show()\n"
      ],
      "metadata": {
        "id": "jMNQ3bqpBWSg"
      },
      "execution_count": null,
      "outputs": []
    },
    {
      "cell_type": "code",
      "source": [
        "# Feature Engineering\n",
        "# Create BMI categories\n",
        "health['bmi_category'] = pd.cut(health['bmi'], bins=[0, 18.5, 24.9, 29.9, 100], labels=['Underweight', 'Healthy', 'Overweight', 'Obese'])\n",
        "\n",
        "# Create age groups\n",
        "health['age_group'] = pd.cut(health['age'], bins=[0, 25, 40, 64, 100], labels=['Young Adult', 'Adult', 'Middle Aged', 'Senior'])\n",
        "\n",
        "health.head()\n"
      ],
      "metadata": {
        "id": "WWjyk1vpBWO7"
      },
      "execution_count": null,
      "outputs": []
    },
    {
      "cell_type": "code",
      "source": [
        "# Drop 'age' and 'bmi' columns\n",
        "health = health.drop(['age', 'bmi'], axis=1)\n",
        "\n",
        "# Re-apply Label Encoding to the remaining categorical columns\n",
        "label = LabelEncoder()\n",
        "for column in health.select_dtypes(include=['object']).columns:\n",
        "    health[column] = label.fit_transform(health[column])\n",
        "\n",
        "health.head()\n"
      ],
      "metadata": {
        "id": "D_Og4p6CBWLS"
      },
      "execution_count": null,
      "outputs": []
    },
    {
      "cell_type": "code",
      "source": [
        "# label encode 'bmi_category' and 'age_group'\n",
        "label = LabelEncoder()  # Reinitialize if needed\n",
        "health['bmi_category'] = label.fit_transform(health['bmi_category'])\n",
        "health['age_group'] = label.fit_transform(health['age_group'])\n"
      ],
      "metadata": {
        "id": "62LLHfkYEoy_"
      },
      "execution_count": null,
      "outputs": []
    },
    {
      "cell_type": "code",
      "source": [
        "# Assuming 'health' DataFrame is already prepared as in the previous code\n",
        "\n",
        "plt.figure(figsize=(12, 10))\n",
        "sns.heatmap(health.corr(), annot=True, cmap='coolwarm')\n",
        "plt.title('Correlation Heatmap of Health Insurance Dataset')\n",
        "plt.show()\n"
      ],
      "metadata": {
        "id": "Qoe5ErFsE1Dd"
      },
      "execution_count": null,
      "outputs": []
    },
    {
      "cell_type": "code",
      "source": [
        "X = health.drop('expenses', axis=1)\n",
        "y = health['expenses']\n"
      ],
      "metadata": {
        "id": "kdYObjzZFIbo"
      },
      "execution_count": null,
      "outputs": []
    },
    {
      "cell_type": "code",
      "source": [
        "from sklearn.model_selection import train_test_split\n",
        "from sklearn.preprocessing import StandardScaler\n",
        "from sklearn.linear_model import LinearRegression\n",
        "from sklearn.metrics import r2_score, mean_absolute_error\n",
        "from sklearn.linear_model import Lasso\n",
        "from sklearn.ensemble import RandomForestRegressor"
      ],
      "metadata": {
        "id": "y9o3LQj-QbIV"
      },
      "execution_count": null,
      "outputs": []
    },
    {
      "cell_type": "code",
      "source": [
        "X_train, X_test, y_train, y_test = train_test_split(X, y, test_size=0.2, random_state=42)\n",
        "\n",
        "scaler = StandardScaler()\n",
        "X_train = scaler.fit_transform(X_train)\n",
        "X_test = scaler.transform(X_test)\n",
        "\n",
        "model = LinearRegression()\n",
        "model.fit(X_train, y_train)\n",
        "\n",
        "y_pred = model.predict(X_test)\n",
        "\n",
        "r2 = r2_score(y_test, y_pred)\n",
        "mae = mean_absolute_error(y_test, y_pred)\n",
        "\n",
        "print(f\"R-squared: {r2}\")\n",
        "print(f\"Mean Absolute Error: {mae}\")\n"
      ],
      "metadata": {
        "id": "DrFZRMTEFIOV"
      },
      "execution_count": null,
      "outputs": []
    },
    {
      "cell_type": "markdown",
      "source": [
        "**2. Lasso Regression**\n",
        "\n",
        "Lasso regression is a linear model that incorporates an L1 penalty to both regularize the model and perform feature selection. By adding a penalty proportional to the absolute values of the coefficients, Lasso effectively shrinks less important coefficients to zero, thus simplifying the model and reducing overfitting."
      ],
      "metadata": {
        "id": "8Q1w6foRQpl1"
      }
    },
    {
      "cell_type": "code",
      "source": [
        "# Initialize and train the Lasso model\n",
        "lasso_model = Lasso(alpha=1.0)  # You can adjust the alpha value\n",
        "lasso_model.fit(X_train, y_train)\n",
        "\n",
        "# Make predictions\n",
        "y_pred_lasso = lasso_model.predict(X_test)\n",
        "\n",
        "# Evaluate the model\n",
        "r2_lasso = r2_score(y_test, y_pred_lasso)\n",
        "mae_lasso = mean_absolute_error(y_test, y_pred_lasso)\n",
        "\n",
        "print(f\"Lasso R-squared: {r2_lasso}\")\n",
        "print(f\"Lasso Mean Absolute Error: {mae_lasso}\")\n"
      ],
      "metadata": {
        "id": "FZRFdDkdFILO"
      },
      "execution_count": null,
      "outputs": []
    },
    {
      "cell_type": "markdown",
      "source": [
        "**Results**"
      ],
      "metadata": {
        "id": "j55cW7mrQxj8"
      }
    },
    {
      "cell_type": "markdown",
      "source": [
        "**3. Random Forest Model**\n"
      ],
      "metadata": {
        "id": "WFnoclySEfh2"
      }
    },
    {
      "cell_type": "code",
      "source": [
        "\n",
        "# Initialize and train the Random Forest Regressor\n",
        "rf_model = RandomForestRegressor(n_estimators=100, random_state=42) # You can adjust hyperparameters\n",
        "rf_model.fit(X_train, y_train)\n",
        "\n",
        "# Make predictions\n",
        "y_pred_rf = rf_model.predict(X_test)\n",
        "\n",
        "# Evaluate the model\n",
        "r2_rf = r2_score(y_test, y_pred_rf)\n",
        "mae_rf = mean_absolute_error(y_test, y_pred_rf)\n",
        "\n",
        "print(f\"Random Forest R-squared: {r2_rf}\")\n",
        "print(f\"Random Forest Mean Absolute Error: {mae_rf}\")\n"
      ],
      "metadata": {
        "id": "bfraAdJAFIIl"
      },
      "execution_count": null,
      "outputs": []
    },
    {
      "cell_type": "code",
      "source": [
        "rf_model.get_params()"
      ],
      "metadata": {
        "id": "0jMvwrcTJwgy"
      },
      "execution_count": null,
      "outputs": []
    },
    {
      "cell_type": "code",
      "source": [
        "\n",
        "from sklearn.model_selection import RandomizedSearchCV\n",
        "\n",
        "# Define the parameter grid for RandomForestRegressor\n",
        "param_grid = {\n",
        "    'n_estimators': [50, 100, 150, 200],\n",
        "    'max_depth': [5,10, 15],\n",
        "    'min_samples_split': [2, 3, 5],\n",
        "    'min_samples_leaf': [1, 2, 4],\n",
        "    'max_features': ['auto', 'sqrt', 'log2']\n",
        "\n",
        "}\n",
        "\n",
        "rf_model2 = RandomizedSearchCV(estimator=rf_model, param_distributions=param_grid, cv=5, scoring='neg_mean_absolute_error')\n",
        "rf_model2.fit(X_train, y_train)\n",
        "params_rf = rf_model2.best_params_\n",
        "params_rf\n",
        "\n"
      ],
      "metadata": {
        "id": "4FIz7d_SJk4h"
      },
      "execution_count": null,
      "outputs": []
    },
    {
      "cell_type": "code",
      "source": [
        "rf = RandomForestRegressor(n_estimators=params_rf['n_estimators'],\n",
        "                           max_depth=params_rf['max_depth'],\n",
        "                           min_samples_split=params_rf['min_samples_split'],\n",
        "                           min_samples_leaf = params_rf['min_samples_leaf'],\n",
        "                           max_features = params_rf['max_features'])\n",
        "rf.fit(X_train, y_train)\n",
        "y_pred_rf2 = rf.predict(X_test)\n",
        "r2_best_rf2 = r2_score(y_test, y_pred_rf2)\n",
        "mae_best_rf2 = mean_absolute_error(y_test, y_pred_rf2)"
      ],
      "metadata": {
        "id": "dgW2nYoyBr1g"
      },
      "execution_count": null,
      "outputs": []
    },
    {
      "cell_type": "code",
      "source": [
        "print(f\"Best Random Forest R-squared: {r2_best_rf}\")\n",
        "print(f\"Best Random Forest Mean Absolute Error: {mae_best_rf2}\")"
      ],
      "metadata": {
        "id": "TKjAdCYZAbeY"
      },
      "execution_count": null,
      "outputs": []
    },
    {
      "cell_type": "markdown",
      "source": [
        "**Results**\n",
        "\n",
        "The tuned Random Forest model is performing well. The R-squared of the model is approximately 0.8435, the model explains around 84% of the variance in health expenses. The Mean Absolute Error (MAE) of roughly $3428 is below the target threshold of $3500, which is a strong outcome"
      ],
      "metadata": {
        "id": "k-QOfxccFEvg"
      }
    },
    {
      "cell_type": "code",
      "source": [
        "# Feature Importance of the tuned Random Forest model\n",
        "importances = rf.feature_importances_\n",
        "feature_names = X.columns\n",
        "plt.figure(figsize=(10, 6))\n",
        "plt.barh(X.columns, importances)\n",
        "plt.xlabel('Importance')\n",
        "plt.ylabel('Features')\n",
        "plt.title('Feature Importance')\n",
        "plt.show()"
      ],
      "metadata": {
        "id": "-nDswBaADBAw"
      },
      "execution_count": null,
      "outputs": []
    }
  ],
  "metadata": {
    "colab": {
      "name": "fcc_predict_health_costs_with_regression.ipynb",
      "private_outputs": true,
      "provenance": [],
      "toc_visible": true,
      "include_colab_link": true
    },
    "kernelspec": {
      "display_name": "Python 3",
      "name": "python3"
    }
  },
  "nbformat": 4,
  "nbformat_minor": 0
}